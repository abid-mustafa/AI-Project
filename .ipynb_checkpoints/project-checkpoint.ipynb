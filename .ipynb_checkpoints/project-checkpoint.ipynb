{
 "cells": [
  {
   "cell_type": "code",
   "execution_count": 252,
   "id": "9ec36cd5",
   "metadata": {},
   "outputs": [],
   "source": [
    "import pandas as pd\n",
    "from sklearn.model_selection import train_test_split\n",
    "from sklearn.tree import DecisionTreeClassifier\n",
    "from sklearn.preprocessing import LabelEncoder\n",
    "from sklearn.metrics import accuracy_score, classification_report\n",
    "\n",
    "\n",
    "# Load the dataset\n",
    "data = pd.read_csv(\"training.csv\")\n",
    "# print(data)"
   ]
  },
  {
   "cell_type": "code",
   "execution_count": 253,
   "id": "f8f87190",
   "metadata": {},
   "outputs": [
    {
     "name": "stdout",
     "output_type": "stream",
     "text": [
      "['Hepatitis B' 'Varicose veins' 'Alcoholic hepatitis' ...\n",
      " 'Hyperthyroidism' '(vertigo) Paroymsal  Positional Vertigo'\n",
      " 'Osteoarthristis']\n",
      "Predictions with features saved to predictions_with_features.csv\n"
     ]
    }
   ],
   "source": [
    "# Separate features (X) and target variable (y)\n",
    "X = data.iloc[:, :-1]  # Select all columns except the last one\n",
    "y = data.iloc[:, -1]   # Select only the last column\n",
    "\n",
    "# print(\"Symptoms (X):\")\n",
    "# print(X)\n",
    "# print(\"\\nPrognosis (y):\")\n",
    "# print(y)\n",
    "\n",
    "# print(set(y))\n",
    "\n",
    "X_train, X_test, y_train, y_test = train_test_split(X, y, test_size=0.33)\n",
    "\n",
    "clf = DecisionTreeClassifier(ccp_alpha=0.01)\n",
    "clf = clf.fit(X_train, y_train)\n",
    "\n",
    "predictions = clf.predict(X_test)\n",
    "print(predictions)\n",
    "\n",
    "# Create a DataFrame with predictions\n",
    "predictions_df = pd.DataFrame({'Predictions': predictions})\n",
    "\n",
    "# Concatenate predictions with X_test values and replace 1s with corresponding symptom names\n",
    "result_df = pd.concat([predictions_df, X_test.apply(lambda x: ', '.join(X.columns[x == 1]), axis=1).reset_index(drop=True)], axis=1)\n",
    "\n",
    "# Save the concatenated DataFrame to a CSV file\n",
    "result_df.to_csv('predictions_with_features.csv', index=False)\n",
    "\n",
    "# Print a message to confirm\n",
    "print(\"Predictions with features saved to predictions_with_features.csv\")"
   ]
  },
  {
   "cell_type": "code",
   "execution_count": 254,
   "id": "7ea55611",
   "metadata": {},
   "outputs": [
    {
     "name": "stdout",
     "output_type": "stream",
     "text": [
      "[[0. 0. 0. ... 0. 0. 0.]\n",
      " [0. 0. 0. ... 0. 1. 0.]\n",
      " [0. 0. 0. ... 0. 0. 0.]\n",
      " ...\n",
      " [0. 0. 0. ... 0. 0. 0.]\n",
      " [1. 0. 0. ... 0. 0. 0.]\n",
      " [0. 0. 0. ... 0. 0. 0.]]\n",
      "Accuracy: 0.9375\n",
      "                                         precision    recall  f1-score   support\n",
      "\n",
      "           Paralysis (brain hemorrhage)       1.00      0.98      0.99        42\n",
      "                            Hepatitis E       1.00      0.89      0.94        44\n",
      "                           Heart attack       1.00      0.85      0.92        46\n",
      "                          Drug Reaction       1.00      0.93      0.96        42\n",
      "                       Bronchial Asthma       1.00      0.86      0.92        35\n",
      "                                Allergy       1.00      0.94      0.97        33\n",
      "                               Migraine       1.00      0.94      0.97        52\n",
      "                    Chronic cholestasis       0.91      0.95      0.93        43\n",
      "                   Cervical spondylosis       1.00      1.00      1.00        39\n",
      "                            Hepatitis C       0.90      0.84      0.87        44\n",
      "                        Osteoarthristis       1.00      1.00      1.00        38\n",
      "                                Malaria       1.00      1.00      1.00        33\n",
      "           Dimorphic hemmorhoids(piles)       1.00      1.00      1.00        39\n",
      "                          Hypertension        1.00      0.95      0.98        43\n",
      "                                   Acne       0.94      0.78      0.85        41\n",
      "                                   GERD       1.00      0.86      0.92        35\n",
      "                              Diabetes        1.00      0.84      0.91        44\n",
      "                           Hypoglycemia       1.00      1.00      1.00        35\n",
      "                        Gastroenteritis       0.30      1.00      0.46        36\n",
      "                              Pneumonia       1.00      1.00      1.00        33\n",
      "                            Common Cold       0.90      0.81      0.85        32\n",
      "                       Fungal infection       1.00      0.84      0.91        43\n",
      "                                 Dengue       1.00      1.00      1.00        32\n",
      "                                Typhoid       1.00      0.95      0.98        42\n",
      "                            Hepatitis D       1.00      1.00      1.00        38\n",
      "                    Alcoholic hepatitis       1.00      1.00      1.00        42\n",
      "                            hepatitis A       1.00      1.00      1.00        33\n",
      "                           Tuberculosis       1.00      0.97      0.99        36\n",
      "                              Arthritis       1.00      1.00      1.00        33\n",
      "(vertigo) Paroymsal  Positional Vertigo       1.00      0.92      0.96        38\n",
      "                         Hypothyroidism       1.00      0.83      0.91        48\n",
      "                Urinary tract infection       1.00      0.96      0.98        48\n",
      "                    Peptic ulcer diseae       1.00      0.93      0.96        42\n",
      "                                   AIDS       1.00      1.00      1.00        35\n",
      "                         Varicose veins       1.00      0.94      0.97        34\n",
      "                              Psoriasis       1.00      1.00      1.00        36\n",
      "                            Hepatitis B       1.00      1.00      1.00        40\n",
      "                               Jaundice       1.00      0.96      0.98        49\n",
      "                            Chicken pox       1.00      0.89      0.94        47\n",
      "                        Hyperthyroidism       1.00      1.00      1.00        39\n",
      "\n",
      "                               accuracy                           0.94      1584\n",
      "                              macro avg       0.97      0.94      0.95      1584\n",
      "                           weighted avg       0.98      0.94      0.95      1584\n",
      "\n",
      "                                    0\n",
      "yellowing_of_eyes            0.052814\n",
      "coma                         0.029157\n",
      "swollen_extremeties          0.028832\n",
      "receiving_blood_transfusion  0.028828\n",
      "pain_behind_the_eyes         0.028824\n",
      "...                               ...\n",
      "fluid_overload               0.000000\n",
      "acute_liver_failure          0.000000\n",
      "yellow_urine                 0.000000\n",
      "mild_fever                   0.000000\n",
      "yellow_crust_ooze            0.000000\n",
      "\n",
      "[132 rows x 1 columns]\n"
     ]
    }
   ],
   "source": [
    "print(clf.predict_proba(X_test))\n",
    "\n",
    "# Calculate accuracy\n",
    "accuracy = accuracy_score(y_test, predictions)\n",
    "print(\"Accuracy:\", accuracy)\n",
    "print(classification_report(y_test, predictions, target_names=set(y)))\n",
    "\n",
    "feature_names = list(X.columns)\n",
    "feature_importance = pd.DataFrame(clf.feature_importances_, index = feature_names).sort_values(0, ascending=False)\n",
    "print(feature_importance)"
   ]
  },
  {
   "cell_type": "code",
   "execution_count": 282,
   "id": "ed670b89",
   "metadata": {},
   "outputs": [
    {
     "name": "stdout",
     "output_type": "stream",
     "text": [
      "Based on the provided symptoms, the predicted disease is: ['Pneumonia']\n"
     ]
    }
   ],
   "source": [
    "# Symptoms provided by the user\n",
    "\n",
    "user_symptoms = ['continuous_sneezing', 'shivering', 'chills', 'watering_from_eyes', 'rusty_sputum']\n",
    "\n",
    "# Initialize user_input dictionary with all symptoms set to 0\n",
    "user_input = {symptom: [0] for symptom in X.columns}\n",
    "\n",
    "# Set values to 1 for symptoms provided by the user\n",
    "for symptom in user_symptoms:\n",
    "    if symptom in user_input:\n",
    "        user_input[symptom] = [1]\n",
    "\n",
    "# Convert user_input to DataFrame\n",
    "user_df = pd.DataFrame(user_input)\n",
    "\n",
    "# Make predictions using the trained model\n",
    "predicted_disease = clf.predict(user_df)\n",
    "\n",
    "# Display the predicted output to the user\n",
    "print(\"Based on the provided symptoms, the predicted disease is:\", predicted_disease)"
   ]
  },
  {
   "cell_type": "code",
   "execution_count": 283,
   "id": "374855ec",
   "metadata": {},
   "outputs": [],
   "source": [
    "# Have to get metrics for user input prediction"
   ]
  }
 ],
 "metadata": {
  "kernelspec": {
   "display_name": "Python 3 (ipykernel)",
   "language": "python",
   "name": "python3"
  },
  "language_info": {
   "codemirror_mode": {
    "name": "ipython",
    "version": 3
   },
   "file_extension": ".py",
   "mimetype": "text/x-python",
   "name": "python",
   "nbconvert_exporter": "python",
   "pygments_lexer": "ipython3",
   "version": "3.11.5"
  }
 },
 "nbformat": 4,
 "nbformat_minor": 5
}
